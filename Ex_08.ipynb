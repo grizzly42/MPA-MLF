{
  "cells": [
    {
      "cell_type": "markdown",
      "metadata": {
        "id": "view-in-github",
        "colab_type": "text"
      },
      "source": [
        "<a href=\"https://colab.research.google.com/github/grizzly42/MPA-MLF/blob/main/Ex_08.ipynb\" target=\"_parent\"><img src=\"https://colab.research.google.com/assets/colab-badge.svg\" alt=\"Open In Colab\"/></a>"
      ]
    },
    {
      "cell_type": "markdown",
      "id": "4e658167-a5e2-42c5-9fa6-01f7021fbca4",
      "metadata": {
        "id": "4e658167-a5e2-42c5-9fa6-01f7021fbca4"
      },
      "source": [
        "# MKA-MLF, Lab_08 - RNN"
      ]
    },
    {
      "cell_type": "markdown",
      "source": [
        "Recurrent Neural Networks, are a class of artificial neural networks designed to recognize patterns in sequences of data, such as text, genomes, handwriting, or spoken words. Unlike traditional neural networks, which assume all inputs (and outputs) are independent of each other, RNNs are designed to recognize sequential or temporal patterns, making them especially suited for tasks like language modeling, speech recognition, and time series prediction."
      ],
      "metadata": {
        "id": "F6KltZSGklJQ"
      },
      "id": "F6KltZSGklJQ"
    },
    {
      "cell_type": "markdown",
      "source": [
        "## Exercise 1 - Time Series Forecasting"
      ],
      "metadata": {
        "id": "zheceqk2lMcA"
      },
      "id": "zheceqk2lMcA"
    },
    {
      "cell_type": "markdown",
      "source": [
        "### 1.0 Import Libraries"
      ],
      "metadata": {
        "id": "TzFZTA1DrJbG"
      },
      "id": "TzFZTA1DrJbG"
    },
    {
      "cell_type": "code",
      "source": [
        "import numpy as np\n",
        "import matplotlib.pyplot as plt\n",
        "from keras.layers import Dense, Flatten, SimpleRNN\n",
        "from keras.models import Sequential\n",
        "from tensorflow.keras.optimizers import Adam\n"
      ],
      "metadata": {
        "id": "Whyi3QznnAbG"
      },
      "id": "Whyi3QznnAbG",
      "execution_count": 1,
      "outputs": []
    },
    {
      "cell_type": "markdown",
      "source": [
        "### 1.1 Generating dataset"
      ],
      "metadata": {
        "id": "UBqkZx0lrCAP"
      },
      "id": "UBqkZx0lrCAP"
    },
    {
      "cell_type": "code",
      "source": [
        "def generate_time_series(batch_size, n_steps):\n",
        "  freq1, freq2, offsets1, offsets2 = np.random.rand(4, batch_size, 1)\n",
        "  time = np.linspace(0,1,n_steps)\n",
        "\n",
        "  series = 0.5 * np.sin((time - offsets1) * (freq1*10 + 10))\n",
        "  series += 0.2 * np.sin((time - offsets2) * (freq2*20 + 20))\n",
        "  series += 0.1 * (np.random.rand(batch_size, n_steps)- 0.5)\n",
        "  return series[..., np.newaxis].astype(np.float32)"
      ],
      "metadata": {
        "id": "Q_Q3ulmRlS6R"
      },
      "id": "Q_Q3ulmRlS6R",
      "execution_count": 2,
      "outputs": []
    },
    {
      "cell_type": "code",
      "source": [
        "data_size = 10000\n",
        "n_steps = 50\n",
        "np.random.seed(0)\n",
        "\n",
        "series = generate_time_series(data_size, n_steps + 1)"
      ],
      "metadata": {
        "id": "p9kt6EQjkfvi"
      },
      "id": "p9kt6EQjkfvi",
      "execution_count": 3,
      "outputs": []
    },
    {
      "cell_type": "markdown",
      "source": [
        "### 1.2 Train/Valid/Test split"
      ],
      "metadata": {
        "id": "5neyWb-NrQ98"
      },
      "id": "5neyWb-NrQ98"
    },
    {
      "cell_type": "code",
      "source": [
        "X_train, y_train = series[:7000, :n_steps], series[:7000, -1]\n",
        "X_valid, y_valid = series[7000:9000, :n_steps], series[7000:9000, -1]\n",
        "X_test, y_test = series[9000:, :n_steps], series[9000:, -1]"
      ],
      "metadata": {
        "id": "hPX75BPkmZqk"
      },
      "id": "hPX75BPkmZqk",
      "execution_count": 4,
      "outputs": []
    },
    {
      "cell_type": "code",
      "source": [
        "no_training_epochs = 5"
      ],
      "metadata": {
        "id": "0DtVKkwzuoQZ"
      },
      "id": "0DtVKkwzuoQZ",
      "execution_count": 5,
      "outputs": []
    },
    {
      "cell_type": "markdown",
      "source": [
        "### 1.3 Data examination"
      ],
      "metadata": {
        "id": "js6Qzm--rXmD"
      },
      "id": "js6Qzm--rXmD"
    },
    {
      "cell_type": "code",
      "source": [
        "plt.figure()\n",
        "plt.plot(X_train[0])\n",
        "plt.plot(n_steps+1, y_train[0], 'rx')"
      ],
      "metadata": {
        "colab": {
          "base_uri": "https://localhost:8080/",
          "height": 448
        },
        "id": "GpXWorBknLSr",
        "outputId": "6a6267d1-663f-4207-cb20-0ddcf861fb12"
      },
      "id": "GpXWorBknLSr",
      "execution_count": 6,
      "outputs": [
        {
          "output_type": "execute_result",
          "data": {
            "text/plain": [
              "[<matplotlib.lines.Line2D at 0x7e6393790b10>]"
            ]
          },
          "metadata": {},
          "execution_count": 6
        },
        {
          "output_type": "display_data",
          "data": {
            "text/plain": [
              "<Figure size 640x480 with 1 Axes>"
            ],
            "image/png": "[encoded data removed]"
          },
          "metadata": {}
        }
      ]
    },
    {
      "cell_type": "markdown",
      "source": [
        "### 1.4 Simple Linear model"
      ],
      "metadata": {
        "id": "GvgPXxfBrahC"
      },
      "id": "GvgPXxfBrahC"
    },
    {
      "cell_type": "code",
      "source": [
        "# Model definition\n",
        "model_linear = Sequential()\n",
        "model_linear.add(Flatten(input_shape=(50,1)))\n",
        "model_linear.add(Dense(1, activation = None))"
      ],
      "metadata": {
        "id": "g7izHKRso_an",
        "colab": {
          "base_uri": "https://localhost:8080/"
        },
        "outputId": "2271bb9b-b96a-48c2-a1df-585b673708e9"
      },
      "id": "g7izHKRso_an",
      "execution_count": 7,
      "outputs": [
        {
          "output_type": "stream",
          "name": "stderr",
          "text": [
            "/usr/local/lib/python3.11/dist-packages/keras/src/layers/reshaping/flatten.py:37: UserWarning: Do not pass an `input_shape`/`input_dim` argument to a layer. When using Sequential models, prefer using an `Input(shape)` object as the first layer in the model instead.\n",
            "  super().__init__(**kwargs)\n"
          ]
        }
      ]
    },
    {
      "cell_type": "code",
      "source": [
        "# Model building\n",
        "\n",
        "learning_rate = 0.001\n",
        "optimizer = Adam(learning_rate)\n",
        "model_linear.compile(loss='mean_squared_error', optimizer=optimizer, metrics=['mean_squared_error'])"
      ],
      "metadata": {
        "id": "csJhWfvypZw7"
      },
      "id": "csJhWfvypZw7",
      "execution_count": 8,
      "outputs": []
    },
    {
      "cell_type": "code",
      "source": [
        "model_linear.summary()"
      ],
      "metadata": {
        "colab": {
          "base_uri": "https://localhost:8080/",
          "height": 193
        },
        "id": "D3iBcNJQpnMv",
        "outputId": "a3ca4db9-fb69-45f5-ae2f-8aad5831b714"
      },
      "id": "D3iBcNJQpnMv",
      "execution_count": 9,
      "outputs": [
        {
          "output_type": "display_data",
          "data": {
            "text/plain": [
              "\u001b[1mModel: \"sequential\"\u001b[0m\n"
            ],
            "text/html": [
              "<pre style=\"white-space:pre;overflow-x:auto;line-height:normal;font-family:Menlo,'DejaVu Sans Mono',consolas,'Courier New',monospace\"><span style=\"font-weight: bold\">Model: \"sequential\"</span>\n",
              "</pre>\n"
            ]
          },
          "metadata": {}
        },
        {
          "output_type": "display_data",
          "data": {
            "text/plain": [
              "┏━━━━━━━━━━━━━━━━━━━━━━━━━━━━━━━━━━━━━━┳━━━━━━━━━━━━━━━━━━━━━━━━━━━━━┳━━━━━━━━━━━━━━━━━┓\n",
              "┃\u001b[1m \u001b[0m\u001b[1mLayer (type)                        \u001b[0m\u001b[1m \u001b[0m┃\u001b[1m \u001b[0m\u001b[1mOutput Shape               \u001b[0m\u001b[1m \u001b[0m┃\u001b[1m \u001b[0m\u001b[1m        Param #\u001b[0m\u001b[1m \u001b[0m┃\n",
              "┡━━━━━━━━━━━━━━━━━━━━━━━━━━━━━━━━━━━━━━╇━━━━━━━━━━━━━━━━━━━━━━━━━━━━━╇━━━━━━━━━━━━━━━━━┩\n",
              "│ flatten (\u001b[38;5;33mFlatten\u001b[0m)                    │ (\u001b[38;5;45mNone\u001b[0m, \u001b[38;5;34m50\u001b[0m)                  │               \u001b[38;5;34m0\u001b[0m │\n",
              "├──────────────────────────────────────┼─────────────────────────────┼─────────────────┤\n",
              "│ dense (\u001b[38;5;33mDense\u001b[0m)                        │ (\u001b[38;5;45mNone\u001b[0m, \u001b[38;5;34m1\u001b[0m)                   │              \u001b[38;5;34m51\u001b[0m │\n",
              "└──────────────────────────────────────┴─────────────────────────────┴─────────────────┘\n"
            ],
            "text/html": [
              "<pre style=\"white-space:pre;overflow-x:auto;line-height:normal;font-family:Menlo,'DejaVu Sans Mono',consolas,'Courier New',monospace\">┏━━━━━━━━━━━━━━━━━━━━━━━━━━━━━━━━━━━━━━┳━━━━━━━━━━━━━━━━━━━━━━━━━━━━━┳━━━━━━━━━━━━━━━━━┓\n",
              "┃<span style=\"font-weight: bold\"> Layer (type)                         </span>┃<span style=\"font-weight: bold\"> Output Shape                </span>┃<span style=\"font-weight: bold\">         Param # </span>┃\n",
              "┡━━━━━━━━━━━━━━━━━━━━━━━━━━━━━━━━━━━━━━╇━━━━━━━━━━━━━━━━━━━━━━━━━━━━━╇━━━━━━━━━━━━━━━━━┩\n",
              "│ flatten (<span style=\"color: #0087ff; text-decoration-color: #0087ff\">Flatten</span>)                    │ (<span style=\"color: #00d7ff; text-decoration-color: #00d7ff\">None</span>, <span style=\"color: #00af00; text-decoration-color: #00af00\">50</span>)                  │               <span style=\"color: #00af00; text-decoration-color: #00af00\">0</span> │\n",
              "├──────────────────────────────────────┼─────────────────────────────┼─────────────────┤\n",
              "│ dense (<span style=\"color: #0087ff; text-decoration-color: #0087ff\">Dense</span>)                        │ (<span style=\"color: #00d7ff; text-decoration-color: #00d7ff\">None</span>, <span style=\"color: #00af00; text-decoration-color: #00af00\">1</span>)                   │              <span style=\"color: #00af00; text-decoration-color: #00af00\">51</span> │\n",
              "└──────────────────────────────────────┴─────────────────────────────┴─────────────────┘\n",
              "</pre>\n"
            ]
          },
          "metadata": {}
        },
        {
          "output_type": "display_data",
          "data": {
            "text/plain": [
              "\u001b[1m Total params: \u001b[0m\u001b[38;5;34m51\u001b[0m (204.00 B)\n"
            ],
            "text/html": [
              "<pre style=\"white-space:pre;overflow-x:auto;line-height:normal;font-family:Menlo,'DejaVu Sans Mono',consolas,'Courier New',monospace\"><span style=\"font-weight: bold\"> Total params: </span><span style=\"color: #00af00; text-decoration-color: #00af00\">51</span> (204.00 B)\n",
              "</pre>\n"
            ]
          },
          "metadata": {}
        },
        {
          "output_type": "display_data",
          "data": {
            "text/plain": [
              "\u001b[1m Trainable params: \u001b[0m\u001b[38;5;34m51\u001b[0m (204.00 B)\n"
            ],
            "text/html": [
              "<pre style=\"white-space:pre;overflow-x:auto;line-height:normal;font-family:Menlo,'DejaVu Sans Mono',consolas,'Courier New',monospace\"><span style=\"font-weight: bold\"> Trainable params: </span><span style=\"color: #00af00; text-decoration-color: #00af00\">51</span> (204.00 B)\n",
              "</pre>\n"
            ]
          },
          "metadata": {}
        },
        {
          "output_type": "display_data",
          "data": {
            "text/plain": [
              "\u001b[1m Non-trainable params: \u001b[0m\u001b[38;5;34m0\u001b[0m (0.00 B)\n"
            ],
            "text/html": [
              "<pre style=\"white-space:pre;overflow-x:auto;line-height:normal;font-family:Menlo,'DejaVu Sans Mono',consolas,'Courier New',monospace\"><span style=\"font-weight: bold\"> Non-trainable params: </span><span style=\"color: #00af00; text-decoration-color: #00af00\">0</span> (0.00 B)\n",
              "</pre>\n"
            ]
          },
          "metadata": {}
        }
      ]
    },
    {
      "cell_type": "code",
      "source": [
        "# Model training\n",
        "\n",
        "history_linear = model_linear.fit(X_train, y_train, epochs=no_training_epochs, validation_data=[X_valid, y_valid])"
      ],
      "metadata": {
        "colab": {
          "base_uri": "https://localhost:8080/"
        },
        "id": "GGZMF0d9pmbv",
        "outputId": "d97d64a9-f749-4074-a36d-e209fd756355"
      },
      "id": "GGZMF0d9pmbv",
      "execution_count": 10,
      "outputs": [
        {
          "output_type": "stream",
          "name": "stdout",
          "text": [
            "Epoch 1/5\n",
            "\u001b[1m219/219\u001b[0m \u001b[32m━━━━━━━━━━━━━━━━━━━━\u001b[0m\u001b[37m\u001b[0m \u001b[1m6s\u001b[0m 15ms/step - loss: 0.5144 - mean_squared_error: 0.5144 - val_loss: 0.1626 - val_mean_squared_error: 0.1626\n",
            "Epoch 2/5\n",
            "\u001b[1m219/219\u001b[0m \u001b[32m━━━━━━━━━━━━━━━━━━━━\u001b[0m\u001b[37m\u001b[0m \u001b[1m2s\u001b[0m 6ms/step - loss: 0.1219 - mean_squared_error: 0.1219 - val_loss: 0.0610 - val_mean_squared_error: 0.0610\n",
            "Epoch 3/5\n",
            "\u001b[1m219/219\u001b[0m \u001b[32m━━━━━━━━━━━━━━━━━━━━\u001b[0m\u001b[37m\u001b[0m \u001b[1m2s\u001b[0m 3ms/step - loss: 0.0526 - mean_squared_error: 0.0526 - val_loss: 0.0348 - val_mean_squared_error: 0.0348\n",
            "Epoch 4/5\n",
            "\u001b[1m219/219\u001b[0m \u001b[32m━━━━━━━━━━━━━━━━━━━━\u001b[0m\u001b[37m\u001b[0m \u001b[1m1s\u001b[0m 3ms/step - loss: 0.0327 - mean_squared_error: 0.0327 - val_loss: 0.0249 - val_mean_squared_error: 0.0249\n",
            "Epoch 5/5\n",
            "\u001b[1m219/219\u001b[0m \u001b[32m━━━━━━━━━━━━━━━━━━━━\u001b[0m\u001b[37m\u001b[0m \u001b[1m1s\u001b[0m 4ms/step - loss: 0.0244 - mean_squared_error: 0.0244 - val_loss: 0.0196 - val_mean_squared_error: 0.0196\n"
          ]
        }
      ]
    },
    {
      "cell_type": "code",
      "source": [
        "def plot_function(history):\n",
        "  plt.figure()\n",
        "\n",
        "  plt.plot(history.history['loss'], label='loss')\n",
        "  plt.plot(history.history['val_loss'], label='validation_loss')\n",
        "  plt.legend()\n",
        "  plt.grid()\n",
        "  plt.xlim([0,no_training_epochs-1])\n",
        "  plt.xlabel('epochs')"
      ],
      "metadata": {
        "id": "t9IahRnYqSi4"
      },
      "id": "t9IahRnYqSi4",
      "execution_count": 11,
      "outputs": []
    },
    {
      "cell_type": "code",
      "source": [
        "plot_function(history_linear)"
      ],
      "metadata": {
        "colab": {
          "base_uri": "https://localhost:8080/",
          "height": 449
        },
        "id": "wMAEXxYiwKYo",
        "outputId": "9228fe0a-8fc8-4baa-c1fc-1da04475e8cd"
      },
      "id": "wMAEXxYiwKYo",
      "execution_count": 12,
      "outputs": [
        {
          "output_type": "display_data",
          "data": {
            "text/plain": [
              "<Figure size 640x480 with 1 Axes>"
            ],
            "image/png": "[encoded data removed]"
          },
          "metadata": {}
        }
      ]
    },
    {
      "cell_type": "code",
      "source": [
        "score = model_linear.evaluate(X_test, y_test, verbose=0)\n",
        "print('Test loss:', score[0])\n",
        "print(f'Test MSE: ', score[1])"
      ],
      "metadata": {
        "colab": {
          "base_uri": "https://localhost:8080/"
        },
        "id": "nKnuXHSSqV8n",
        "outputId": "0e6e081f-69f0-414b-d8c9-85042d42a975"
      },
      "id": "nKnuXHSSqV8n",
      "execution_count": 13,
      "outputs": [
        {
          "output_type": "stream",
          "name": "stdout",
          "text": [
            "Test loss: 0.020134231075644493\n",
            "Test MSE:  0.020134231075644493\n"
          ]
        }
      ]
    },
    {
      "cell_type": "markdown",
      "source": [
        "### 1.5 Simple RNN Model"
      ],
      "metadata": {
        "id": "odHZYob8rf4B"
      },
      "id": "odHZYob8rf4B"
    },
    {
      "cell_type": "code",
      "source": [
        "model_simple_rnn = Sequential()\n",
        "model_simple_rnn.add(SimpleRNN(1, input_shape=[50, 1]))"
      ],
      "metadata": {
        "id": "jRSMY-2GrAI5",
        "colab": {
          "base_uri": "https://localhost:8080/"
        },
        "outputId": "394c01ff-9660-4c58-8852-6416136454c9"
      },
      "id": "jRSMY-2GrAI5",
      "execution_count": 14,
      "outputs": [
        {
          "output_type": "stream",
          "name": "stderr",
          "text": [
            "/usr/local/lib/python3.11/dist-packages/keras/src/layers/rnn/rnn.py:200: UserWarning: Do not pass an `input_shape`/`input_dim` argument to a layer. When using Sequential models, prefer using an `Input(shape)` object as the first layer in the model instead.\n",
            "  super().__init__(**kwargs)\n"
          ]
        }
      ]
    },
    {
      "cell_type": "code",
      "source": [
        "learning_rate_simple_rnn = 0.001\n",
        "optimizer_simple_rnn = Adam(learning_rate_simple_rnn)\n",
        "model_simple_rnn.compile(loss='mean_squared_error', optimizer=optimizer_simple_rnn, metrics=['mean_squared_error'])"
      ],
      "metadata": {
        "id": "a4O10LpTtPun"
      },
      "id": "a4O10LpTtPun",
      "execution_count": 15,
      "outputs": []
    },
    {
      "cell_type": "code",
      "source": [
        "history_simple_rnn = model_simple_rnn.fit(X_train, y_train, epochs=no_training_epochs, validation_data=[X_valid, y_valid])"
      ],
      "metadata": {
        "colab": {
          "base_uri": "https://localhost:8080/"
        },
        "id": "kvkCnmGDtaSo",
        "outputId": "58126410-af62-4759-94a2-165b58d2ddff"
      },
      "id": "kvkCnmGDtaSo",
      "execution_count": 16,
      "outputs": [
        {
          "output_type": "stream",
          "name": "stdout",
          "text": [
            "Epoch 1/5\n",
            "\u001b[1m219/219\u001b[0m \u001b[32m━━━━━━━━━━━━━━━━━━━━\u001b[0m\u001b[37m\u001b[0m \u001b[1m4s\u001b[0m 10ms/step - loss: 0.0199 - mean_squared_error: 0.0199 - val_loss: 0.0126 - val_mean_squared_error: 0.0126\n",
            "Epoch 2/5\n",
            "\u001b[1m219/219\u001b[0m \u001b[32m━━━━━━━━━━━━━━━━━━━━\u001b[0m\u001b[37m\u001b[0m \u001b[1m1s\u001b[0m 5ms/step - loss: 0.0126 - mean_squared_error: 0.0126 - val_loss: 0.0115 - val_mean_squared_error: 0.0115\n",
            "Epoch 3/5\n",
            "\u001b[1m219/219\u001b[0m \u001b[32m━━━━━━━━━━━━━━━━━━━━\u001b[0m\u001b[37m\u001b[0m \u001b[1m1s\u001b[0m 4ms/step - loss: 0.0112 - mean_squared_error: 0.0112 - val_loss: 0.0114 - val_mean_squared_error: 0.0114\n",
            "Epoch 4/5\n",
            "\u001b[1m219/219\u001b[0m \u001b[32m━━━━━━━━━━━━━━━━━━━━\u001b[0m\u001b[37m\u001b[0m \u001b[1m1s\u001b[0m 4ms/step - loss: 0.0109 - mean_squared_error: 0.0109 - val_loss: 0.0114 - val_mean_squared_error: 0.0114\n",
            "Epoch 5/5\n",
            "\u001b[1m219/219\u001b[0m \u001b[32m━━━━━━━━━━━━━━━━━━━━\u001b[0m\u001b[37m\u001b[0m \u001b[1m1s\u001b[0m 4ms/step - loss: 0.0111 - mean_squared_error: 0.0111 - val_loss: 0.0113 - val_mean_squared_error: 0.0113\n"
          ]
        }
      ]
    },
    {
      "cell_type": "code",
      "source": [
        "plot_function(history_simple_rnn)"
      ],
      "metadata": {
        "id": "a7b9ss0XJLUs",
        "colab": {
          "base_uri": "https://localhost:8080/",
          "height": 449
        },
        "outputId": "f09e0c3d-e535-41d6-9432-9515762ec944"
      },
      "id": "a7b9ss0XJLUs",
      "execution_count": 17,
      "outputs": [
        {
          "output_type": "display_data",
          "data": {
            "text/plain": [
              "<Figure size 640x480 with 1 Axes>"
            ],
            "image/png": "[encoded data removed]"
          },
          "metadata": {}
        }
      ]
    },
    {
      "cell_type": "markdown",
      "source": [
        "### 1.5 Deep RNN Model"
      ],
      "metadata": {
        "id": "NxaXF_ZKuMSN"
      },
      "id": "NxaXF_ZKuMSN"
    },
    {
      "cell_type": "code",
      "source": [
        "model_deep_rnn = Sequential()\n",
        "model_deep_rnn.add(SimpleRNN(20, return_sequences = True, input_shape=[50, 1]))\n",
        "model_deep_rnn.add(SimpleRNN(20, return_sequences = True))\n",
        "model_deep_rnn.add(SimpleRNN(1, input_shape=[50, 1]))"
      ],
      "metadata": {
        "id": "Vf6SRKUGtgQU"
      },
      "id": "Vf6SRKUGtgQU",
      "execution_count": 18,
      "outputs": []
    },
    {
      "cell_type": "code",
      "source": [
        "learning_rate_deep_rnn = 0.001\n",
        "optimizer_deep_rnn = Adam(learning_rate_deep_rnn)\n",
        "model_deep_rnn.compile(loss='mean_squared_error', optimizer=optimizer_deep_rnn, metrics=['mean_squared_error'])"
      ],
      "metadata": {
        "id": "rykrG5VXuZ6s"
      },
      "id": "rykrG5VXuZ6s",
      "execution_count": 19,
      "outputs": []
    },
    {
      "cell_type": "code",
      "source": [
        "history_deep_rnn = model_deep_rnn.fit(X_train, y_train, epochs=no_training_epochs, validation_data=[X_valid, y_valid])"
      ],
      "metadata": {
        "colab": {
          "base_uri": "https://localhost:8080/"
        },
        "id": "TX-nr2jOuhIm",
        "outputId": "4a45c0ef-799e-4b7a-e1e9-cf20e2070454"
      },
      "id": "TX-nr2jOuhIm",
      "execution_count": 20,
      "outputs": [
        {
          "output_type": "stream",
          "name": "stdout",
          "text": [
            "Epoch 1/5\n",
            "\u001b[1m219/219\u001b[0m \u001b[32m━━━━━━━━━━━━━━━━━━━━\u001b[0m\u001b[37m\u001b[0m \u001b[1m10s\u001b[0m 24ms/step - loss: 0.1030 - mean_squared_error: 0.1030 - val_loss: 0.0083 - val_mean_squared_error: 0.0083\n",
            "Epoch 2/5\n",
            "\u001b[1m219/219\u001b[0m \u001b[32m━━━━━━━━━━━━━━━━━━━━\u001b[0m\u001b[37m\u001b[0m \u001b[1m6s\u001b[0m 12ms/step - loss: 0.0073 - mean_squared_error: 0.0073 - val_loss: 0.0055 - val_mean_squared_error: 0.0055\n",
            "Epoch 3/5\n",
            "\u001b[1m219/219\u001b[0m \u001b[32m━━━━━━━━━━━━━━━━━━━━\u001b[0m\u001b[37m\u001b[0m \u001b[1m5s\u001b[0m 12ms/step - loss: 0.0050 - mean_squared_error: 0.0050 - val_loss: 0.0041 - val_mean_squared_error: 0.0041\n",
            "Epoch 4/5\n",
            "\u001b[1m219/219\u001b[0m \u001b[32m━━━━━━━━━━━━━━━━━━━━\u001b[0m\u001b[37m\u001b[0m \u001b[1m2s\u001b[0m 11ms/step - loss: 0.0040 - mean_squared_error: 0.0040 - val_loss: 0.0037 - val_mean_squared_error: 0.0037\n",
            "Epoch 5/5\n",
            "\u001b[1m219/219\u001b[0m \u001b[32m━━━━━━━━━━━━━━━━━━━━\u001b[0m\u001b[37m\u001b[0m \u001b[1m3s\u001b[0m 11ms/step - loss: 0.0035 - mean_squared_error: 0.0035 - val_loss: 0.0037 - val_mean_squared_error: 0.0037\n"
          ]
        }
      ]
    },
    {
      "cell_type": "code",
      "source": [
        "score = model_deep_rnn.evaluate(X_test, y_test, verbose=0)\n",
        "print('Test loss:', score[0])\n",
        "print(f'Test MSE: ', score[1])"
      ],
      "metadata": {
        "colab": {
          "base_uri": "https://localhost:8080/"
        },
        "id": "W2JOVZAlw2I6",
        "outputId": "662e59a4-e09a-4197-929a-3743a2534d26"
      },
      "id": "W2JOVZAlw2I6",
      "execution_count": 21,
      "outputs": [
        {
          "output_type": "stream",
          "name": "stdout",
          "text": [
            "Test loss: 0.003648369573056698\n",
            "Test MSE:  0.003648369573056698\n"
          ]
        }
      ]
    },
    {
      "cell_type": "code",
      "source": [
        "plot_function(history_simple_rnn)"
      ],
      "metadata": {
        "id": "h-RBk92nJSXt",
        "colab": {
          "base_uri": "https://localhost:8080/",
          "height": 449
        },
        "outputId": "884a9231-c8ae-4378-db83-a1aead88fd4f"
      },
      "id": "h-RBk92nJSXt",
      "execution_count": 22,
      "outputs": [
        {
          "output_type": "display_data",
          "data": {
            "text/plain": [
              "<Figure size 640x480 with 1 Axes>"
            ],
            "image/png": "[encoded data removed]"
          },
          "metadata": {}
        }
      ]
    },
    {
      "cell_type": "markdown",
      "source": [
        "## Exercise 2 - The movie review\n",
        "\n",
        "\n"
      ],
      "metadata": {
        "id": "YKleL3gVxWhk"
      },
      "id": "YKleL3gVxWhk"
    },
    {
      "cell_type": "markdown",
      "source": [
        "Based on the written rewiev, classify if the movie if good or bad"
      ],
      "metadata": {
        "id": "nGOfR9_RI27U"
      },
      "id": "nGOfR9_RI27U"
    },
    {
      "cell_type": "markdown",
      "source": [
        "### 2.0 - Import libraries"
      ],
      "metadata": {
        "id": "DeJiO_Vxxz7P"
      },
      "id": "DeJiO_Vxxz7P"
    },
    {
      "cell_type": "code",
      "execution_count": 23,
      "id": "JyIAVnPUlfak",
      "metadata": {
        "id": "JyIAVnPUlfak"
      },
      "outputs": [],
      "source": [
        "import keras\n",
        "from tensorflow.keras.preprocessing.text import Tokenizer\n",
        "import numpy as np\n",
        "from keras.models import Sequential\n",
        "from keras.layers import LSTM, Dense, Embedding, SimpleRNN, GRU, Dropout\n",
        "from keras.preprocessing.sequence import pad_sequences\n",
        "import matplotlib.pyplot as plt\n",
        "from keras.optimizers import Adam\n",
        "from tensorflow.keras.regularizers import l2"
      ]
    },
    {
      "cell_type": "markdown",
      "source": [
        "### 2.1 - Load dataset"
      ],
      "metadata": {
        "id": "_ebMTkFqx65l"
      },
      "id": "_ebMTkFqx65l"
    },
    {
      "cell_type": "code",
      "execution_count": 24,
      "id": "zHTtEPlsq85X",
      "metadata": {
        "id": "zHTtEPlsq85X",
        "colab": {
          "base_uri": "https://localhost:8080/"
        },
        "outputId": "288c66d5-2354-4197-bb27-a5804667f4a2"
      },
      "outputs": [
        {
          "output_type": "stream",
          "name": "stdout",
          "text": [
            "Downloading data from https://storage.googleapis.com/tensorflow/tf-keras-datasets/imdb.npz\n",
            "\u001b[1m17464789/17464789\u001b[0m \u001b[32m━━━━━━━━━━━━━━━━━━━━\u001b[0m\u001b[37m\u001b[0m \u001b[1m0s\u001b[0m 0us/step\n"
          ]
        }
      ],
      "source": [
        "(X_train, y_train), (X_test, y_test) = keras.datasets.imdb.load_data()"
      ]
    },
    {
      "cell_type": "markdown",
      "source": [
        "### 2.2 - Dataset examination"
      ],
      "metadata": {
        "id": "K6UogxMDx_Y-"
      },
      "id": "K6UogxMDx_Y-"
    },
    {
      "cell_type": "code",
      "source": [
        "word_index = keras.datasets.imdb.get_word_index()\n",
        "id_to_word = {id_ + 3:word for word, id_ in word_index.items()}\n",
        "for id_, token in enumerate((\"<pad>\", \"<sos>\", \"<unk>\")):\n",
        "  id_to_word[id_] = token"
      ],
      "metadata": {
        "id": "9jLwcwPxyTD5",
        "colab": {
          "base_uri": "https://localhost:8080/"
        },
        "outputId": "53474970-492b-429e-dfbc-26daf32b7f44"
      },
      "id": "9jLwcwPxyTD5",
      "execution_count": 25,
      "outputs": [
        {
          "output_type": "stream",
          "name": "stdout",
          "text": [
            "Downloading data from https://storage.googleapis.com/tensorflow/tf-keras-datasets/imdb_word_index.json\n",
            "\u001b[1m1641221/1641221\u001b[0m \u001b[32m━━━━━━━━━━━━━━━━━━━━\u001b[0m\u001b[37m\u001b[0m \u001b[1m0s\u001b[0m 0us/step\n"
          ]
        }
      ]
    },
    {
      "cell_type": "code",
      "source": [
        "single_sequence = \" \".join([id_to_word[id_] for id_ in X_train[0][:]])"
      ],
      "metadata": {
        "id": "c8yXphQIyXZB"
      },
      "id": "c8yXphQIyXZB",
      "execution_count": 26,
      "outputs": []
    },
    {
      "cell_type": "code",
      "source": [
        "single_sequence"
      ],
      "metadata": {
        "colab": {
          "base_uri": "https://localhost:8080/",
          "height": 127
        },
        "id": "h_1cpznZC70B",
        "outputId": "3ea9d1a2-9af0-43d9-fe39-b23efc582f17"
      },
      "id": "h_1cpznZC70B",
      "execution_count": 27,
      "outputs": [
        {
          "output_type": "execute_result",
          "data": {
            "text/plain": [
              "\"<sos> this film was just brilliant casting location scenery story direction everyone's really suited the part they played and you could just imagine being there robert redford's is an amazing actor and now the same being director norman's father came from the same scottish island as myself so i loved the fact there was a real connection with this film the witty remarks throughout the film were great it was just brilliant so much that i bought the film as soon as it was released for retail and would recommend it to everyone to watch and the fly fishing was amazing really cried at the end it was so sad and you know what they say if you cry at a film it must have been good and this definitely was also congratulations to the two little boy's that played the part's of norman and paul they were just brilliant children are often left out of the praising list i think because the stars that play them all grown up are such a big profile for the whole film but these children are amazing and should be praised for what they have done don't you think the whole story was so lovely because it was true and was someone's life after all that was shared with us all\""
            ],
            "application/vnd.google.colaboratory.intrinsic+json": {
              "type": "string"
            }
          },
          "metadata": {},
          "execution_count": 27
        }
      ]
    },
    {
      "cell_type": "code",
      "execution_count": 28,
      "id": "4vRZPUGr3w_m",
      "metadata": {
        "id": "4vRZPUGr3w_m"
      },
      "outputs": [],
      "source": [
        "max_length = 150  # Define the maximum length of a review\n",
        "X_train = keras.preprocessing.sequence.pad_sequences(X_train, maxlen=max_length, padding='post', truncating='post', value=0)\n",
        "X_test = keras.preprocessing.sequence.pad_sequences(X_test, maxlen=max_length, padding='post', truncating='post', value=0)"
      ]
    },
    {
      "cell_type": "code",
      "execution_count": 29,
      "id": "NhzI5klo1pYp",
      "metadata": {
        "id": "NhzI5klo1pYp",
        "colab": {
          "base_uri": "https://localhost:8080/",
          "height": 377
        },
        "outputId": "42662fce-2781-4743-dda4-4623f51284b7"
      },
      "outputs": [
        {
          "output_type": "stream",
          "name": "stderr",
          "text": [
            "/usr/local/lib/python3.11/dist-packages/keras/src/layers/core/embedding.py:93: UserWarning: Do not pass an `input_shape`/`input_dim` argument to a layer. When using Sequential models, prefer using an `Input(shape)` object as the first layer in the model instead.\n",
            "  super().__init__(**kwargs)\n"
          ]
        },
        {
          "output_type": "display_data",
          "data": {
            "text/plain": [
              "\u001b[1mModel: \"sequential_3\"\u001b[0m\n"
            ],
            "text/html": [
              "<pre style=\"white-space:pre;overflow-x:auto;line-height:normal;font-family:Menlo,'DejaVu Sans Mono',consolas,'Courier New',monospace\"><span style=\"font-weight: bold\">Model: \"sequential_3\"</span>\n",
              "</pre>\n"
            ]
          },
          "metadata": {}
        },
        {
          "output_type": "display_data",
          "data": {
            "text/plain": [
              "┏━━━━━━━━━━━━━━━━━━━━━━━━━━━━━━━━━━━━━━┳━━━━━━━━━━━━━━━━━━━━━━━━━━━━━┳━━━━━━━━━━━━━━━━━┓\n",
              "┃\u001b[1m \u001b[0m\u001b[1mLayer (type)                        \u001b[0m\u001b[1m \u001b[0m┃\u001b[1m \u001b[0m\u001b[1mOutput Shape               \u001b[0m\u001b[1m \u001b[0m┃\u001b[1m \u001b[0m\u001b[1m        Param #\u001b[0m\u001b[1m \u001b[0m┃\n",
              "┡━━━━━━━━━━━━━━━━━━━━━━━━━━━━━━━━━━━━━━╇━━━━━━━━━━━━━━━━━━━━━━━━━━━━━╇━━━━━━━━━━━━━━━━━┩\n",
              "│ embedding (\u001b[38;5;33mEmbedding\u001b[0m)                │ (\u001b[38;5;45mNone\u001b[0m, \u001b[38;5;45mNone\u001b[0m, \u001b[38;5;34m128\u001b[0m)           │         \u001b[38;5;34m128,000\u001b[0m │\n",
              "├──────────────────────────────────────┼─────────────────────────────┼─────────────────┤\n",
              "│ lstm (\u001b[38;5;33mLSTM\u001b[0m)                          │ (\u001b[38;5;45mNone\u001b[0m, \u001b[38;5;45mNone\u001b[0m, \u001b[38;5;34m128\u001b[0m)           │         \u001b[38;5;34m131,584\u001b[0m │\n",
              "├──────────────────────────────────────┼─────────────────────────────┼─────────────────┤\n",
              "│ dropout (\u001b[38;5;33mDropout\u001b[0m)                    │ (\u001b[38;5;45mNone\u001b[0m, \u001b[38;5;45mNone\u001b[0m, \u001b[38;5;34m128\u001b[0m)           │               \u001b[38;5;34m0\u001b[0m │\n",
              "├──────────────────────────────────────┼─────────────────────────────┼─────────────────┤\n",
              "│ lstm_1 (\u001b[38;5;33mLSTM\u001b[0m)                        │ (\u001b[38;5;45mNone\u001b[0m, \u001b[38;5;34m128\u001b[0m)                 │         \u001b[38;5;34m131,584\u001b[0m │\n",
              "├──────────────────────────────────────┼─────────────────────────────┼─────────────────┤\n",
              "│ dropout_1 (\u001b[38;5;33mDropout\u001b[0m)                  │ (\u001b[38;5;45mNone\u001b[0m, \u001b[38;5;34m128\u001b[0m)                 │               \u001b[38;5;34m0\u001b[0m │\n",
              "├──────────────────────────────────────┼─────────────────────────────┼─────────────────┤\n",
              "│ dense_1 (\u001b[38;5;33mDense\u001b[0m)                      │ (\u001b[38;5;45mNone\u001b[0m, \u001b[38;5;34m1\u001b[0m)                   │             \u001b[38;5;34m129\u001b[0m │\n",
              "└──────────────────────────────────────┴─────────────────────────────┴─────────────────┘\n"
            ],
            "text/html": [
              "<pre style=\"white-space:pre;overflow-x:auto;line-height:normal;font-family:Menlo,'DejaVu Sans Mono',consolas,'Courier New',monospace\">┏━━━━━━━━━━━━━━━━━━━━━━━━━━━━━━━━━━━━━━┳━━━━━━━━━━━━━━━━━━━━━━━━━━━━━┳━━━━━━━━━━━━━━━━━┓\n",
              "┃<span style=\"font-weight: bold\"> Layer (type)                         </span>┃<span style=\"font-weight: bold\"> Output Shape                </span>┃<span style=\"font-weight: bold\">         Param # </span>┃\n",
              "┡━━━━━━━━━━━━━━━━━━━━━━━━━━━━━━━━━━━━━━╇━━━━━━━━━━━━━━━━━━━━━━━━━━━━━╇━━━━━━━━━━━━━━━━━┩\n",
              "│ embedding (<span style=\"color: #0087ff; text-decoration-color: #0087ff\">Embedding</span>)                │ (<span style=\"color: #00d7ff; text-decoration-color: #00d7ff\">None</span>, <span style=\"color: #00d7ff; text-decoration-color: #00d7ff\">None</span>, <span style=\"color: #00af00; text-decoration-color: #00af00\">128</span>)           │         <span style=\"color: #00af00; text-decoration-color: #00af00\">128,000</span> │\n",
              "├──────────────────────────────────────┼─────────────────────────────┼─────────────────┤\n",
              "│ lstm (<span style=\"color: #0087ff; text-decoration-color: #0087ff\">LSTM</span>)                          │ (<span style=\"color: #00d7ff; text-decoration-color: #00d7ff\">None</span>, <span style=\"color: #00d7ff; text-decoration-color: #00d7ff\">None</span>, <span style=\"color: #00af00; text-decoration-color: #00af00\">128</span>)           │         <span style=\"color: #00af00; text-decoration-color: #00af00\">131,584</span> │\n",
              "├──────────────────────────────────────┼─────────────────────────────┼─────────────────┤\n",
              "│ dropout (<span style=\"color: #0087ff; text-decoration-color: #0087ff\">Dropout</span>)                    │ (<span style=\"color: #00d7ff; text-decoration-color: #00d7ff\">None</span>, <span style=\"color: #00d7ff; text-decoration-color: #00d7ff\">None</span>, <span style=\"color: #00af00; text-decoration-color: #00af00\">128</span>)           │               <span style=\"color: #00af00; text-decoration-color: #00af00\">0</span> │\n",
              "├──────────────────────────────────────┼─────────────────────────────┼─────────────────┤\n",
              "│ lstm_1 (<span style=\"color: #0087ff; text-decoration-color: #0087ff\">LSTM</span>)                        │ (<span style=\"color: #00d7ff; text-decoration-color: #00d7ff\">None</span>, <span style=\"color: #00af00; text-decoration-color: #00af00\">128</span>)                 │         <span style=\"color: #00af00; text-decoration-color: #00af00\">131,584</span> │\n",
              "├──────────────────────────────────────┼─────────────────────────────┼─────────────────┤\n",
              "│ dropout_1 (<span style=\"color: #0087ff; text-decoration-color: #0087ff\">Dropout</span>)                  │ (<span style=\"color: #00d7ff; text-decoration-color: #00d7ff\">None</span>, <span style=\"color: #00af00; text-decoration-color: #00af00\">128</span>)                 │               <span style=\"color: #00af00; text-decoration-color: #00af00\">0</span> │\n",
              "├──────────────────────────────────────┼─────────────────────────────┼─────────────────┤\n",
              "│ dense_1 (<span style=\"color: #0087ff; text-decoration-color: #0087ff\">Dense</span>)                      │ (<span style=\"color: #00d7ff; text-decoration-color: #00d7ff\">None</span>, <span style=\"color: #00af00; text-decoration-color: #00af00\">1</span>)                   │             <span style=\"color: #00af00; text-decoration-color: #00af00\">129</span> │\n",
              "└──────────────────────────────────────┴─────────────────────────────┴─────────────────┘\n",
              "</pre>\n"
            ]
          },
          "metadata": {}
        },
        {
          "output_type": "display_data",
          "data": {
            "text/plain": [
              "\u001b[1m Total params: \u001b[0m\u001b[38;5;34m391,297\u001b[0m (1.49 MB)\n"
            ],
            "text/html": [
              "<pre style=\"white-space:pre;overflow-x:auto;line-height:normal;font-family:Menlo,'DejaVu Sans Mono',consolas,'Courier New',monospace\"><span style=\"font-weight: bold\"> Total params: </span><span style=\"color: #00af00; text-decoration-color: #00af00\">391,297</span> (1.49 MB)\n",
              "</pre>\n"
            ]
          },
          "metadata": {}
        },
        {
          "output_type": "display_data",
          "data": {
            "text/plain": [
              "\u001b[1m Trainable params: \u001b[0m\u001b[38;5;34m391,297\u001b[0m (1.49 MB)\n"
            ],
            "text/html": [
              "<pre style=\"white-space:pre;overflow-x:auto;line-height:normal;font-family:Menlo,'DejaVu Sans Mono',consolas,'Courier New',monospace\"><span style=\"font-weight: bold\"> Trainable params: </span><span style=\"color: #00af00; text-decoration-color: #00af00\">391,297</span> (1.49 MB)\n",
              "</pre>\n"
            ]
          },
          "metadata": {}
        },
        {
          "output_type": "display_data",
          "data": {
            "text/plain": [
              "\u001b[1m Non-trainable params: \u001b[0m\u001b[38;5;34m0\u001b[0m (0.00 B)\n"
            ],
            "text/html": [
              "<pre style=\"white-space:pre;overflow-x:auto;line-height:normal;font-family:Menlo,'DejaVu Sans Mono',consolas,'Courier New',monospace\"><span style=\"font-weight: bold\"> Non-trainable params: </span><span style=\"color: #00af00; text-decoration-color: #00af00\">0</span> (0.00 B)\n",
              "</pre>\n"
            ]
          },
          "metadata": {}
        }
      ],
      "source": [
        "embed_size = 128\n",
        "vocabulary_size = 1000\n",
        "\n",
        "\"\"\"\n",
        "model = keras.models.Sequential([\n",
        "    keras.layers.Embedding(vocabulary_size, embed_size,\n",
        "                           input_shape=[None]),\n",
        "    keras.layers.SimpleRNN(128, return_sequences=True),\n",
        "    keras.layers.SimpleRNN(128),\n",
        "    keras.layers.Dense(1, activation='sigmoid')\n",
        "    ])\n",
        "\"\"\"\n",
        "model = keras.models.Sequential([\n",
        "    keras.layers.Embedding(vocabulary_size, embed_size, input_shape=[None]),\n",
        "    keras.layers.LSTM(128, return_sequences=True, kernel_regularizer=l2(0.0001)),\n",
        "    Dropout(0.2),\n",
        "    keras.layers.LSTM(128, kernel_regularizer=l2(0.0001)),\n",
        "    Dropout(0.2),\n",
        "    keras.layers.Dense(1, activation='sigmoid', kernel_regularizer=l2(0.0001))\n",
        "])\n",
        "\n",
        "\n",
        "\n",
        "model.compile(optimizer='adam', loss='binary_crossentropy', metrics=['accuracy'])\n",
        "model.summary()\n"
      ]
    },
    {
      "cell_type": "code",
      "execution_count": 30,
      "id": "lCz9ZWgNbhaZ",
      "metadata": {
        "id": "lCz9ZWgNbhaZ"
      },
      "outputs": [],
      "source": [
        "optimizer = Adam(learning_rate = 0.001)"
      ]
    },
    {
      "cell_type": "code",
      "execution_count": 31,
      "id": "7fdxNF0h28jf",
      "metadata": {
        "id": "7fdxNF0h28jf"
      },
      "outputs": [],
      "source": [
        "model.compile(loss=\"binary_crossentropy\", optimizer=optimizer, metrics=[\"accuracy\"])"
      ]
    },
    {
      "cell_type": "code",
      "execution_count": 32,
      "id": "lIVFi9qT3gzy",
      "metadata": {
        "colab": {
          "base_uri": "https://localhost:8080/"
        },
        "id": "lIVFi9qT3gzy",
        "outputId": "0af67e32-f32e-4941-af44-70b5c2f24106"
      },
      "outputs": [
        {
          "output_type": "stream",
          "name": "stdout",
          "text": [
            "Epoch 1/5\n",
            "\u001b[1m625/625\u001b[0m \u001b[32m━━━━━━━━━━━━━━━━━━━━\u001b[0m\u001b[37m\u001b[0m \u001b[1m16s\u001b[0m 17ms/step - accuracy: 0.5289 - loss: 0.6995 - val_accuracy: 0.7244 - val_loss: 0.5620\n",
            "Epoch 2/5\n",
            "\u001b[1m625/625\u001b[0m \u001b[32m━━━━━━━━━━━━━━━━━━━━\u001b[0m\u001b[37m\u001b[0m \u001b[1m17s\u001b[0m 16ms/step - accuracy: 0.6892 - loss: 0.5972 - val_accuracy: 0.5576 - val_loss: 0.6863\n",
            "Epoch 3/5\n",
            "\u001b[1m625/625\u001b[0m \u001b[32m━━━━━━━━━━━━━━━━━━━━\u001b[0m\u001b[37m\u001b[0m \u001b[1m11s\u001b[0m 17ms/step - accuracy: 0.5511 - loss: 0.6823 - val_accuracy: 0.5178 - val_loss: 0.6920\n",
            "Epoch 4/5\n",
            "\u001b[1m625/625\u001b[0m \u001b[32m━━━━━━━━━━━━━━━━━━━━\u001b[0m\u001b[37m\u001b[0m \u001b[1m10s\u001b[0m 16ms/step - accuracy: 0.5556 - loss: 0.6834 - val_accuracy: 0.5118 - val_loss: 0.7031\n",
            "Epoch 5/5\n",
            "\u001b[1m625/625\u001b[0m \u001b[32m━━━━━━━━━━━━━━━━━━━━\u001b[0m\u001b[37m\u001b[0m \u001b[1m10s\u001b[0m 16ms/step - accuracy: 0.6600 - loss: 0.6231 - val_accuracy: 0.7940 - val_loss: 0.4697\n"
          ]
        }
      ],
      "source": [
        "history = model.fit(X_train, y_train, epochs=5, validation_split=0.2)"
      ]
    },
    {
      "cell_type": "code",
      "source": [
        "score = model.evaluate(X_test, y_test, verbose=0)\n",
        "print('Test loss:', score[0])\n",
        "print(f'Test accuracy: ', score[1]*100, \"%\")"
      ],
      "metadata": {
        "colab": {
          "base_uri": "https://localhost:8080/"
        },
        "id": "69zrgeNHIau6",
        "outputId": "da77fa93-40f9-47d7-a1fa-f3ebee8d148c"
      },
      "id": "69zrgeNHIau6",
      "execution_count": 33,
      "outputs": [
        {
          "output_type": "stream",
          "name": "stdout",
          "text": [
            "Test loss: 0.4611761271953583\n",
            "Test accuracy:  79.78000044822693 %\n"
          ]
        }
      ]
    },
    {
      "cell_type": "markdown",
      "source": [
        "TASK: Modify structure, change the core of the network from RNN to LTSM and\n",
        "\n",
        "With the initial neural network architecture, I achieved an accuracy of around 50%. After modifying the model by replacing the basic layers with an LSTM while keeping the overall structure unchanged, the accuracy improved significantly to 79.78%. Further adjustments, such as adding L2 regularization and Dropout layers, resulted in similar performance, contributing mainly to better training stability and reduced overfitting rather than a substantial accuracy gain."
      ],
      "metadata": {
        "id": "ZtA1O3R1RArG"
      },
      "id": "ZtA1O3R1RArG"
    }
  ],
  "metadata": {
    "accelerator": "GPU",
    "colab": {
      "gpuType": "T4",
      "provenance": [],
      "include_colab_link": true
    },
    "kernelspec": {
      "display_name": "Python 3",
      "name": "python3"
    },
    "language_info": {
      "codemirror_mode": {
        "name": "ipython",
        "version": 3
      },
      "file_extension": ".py",
      "mimetype": "text/x-python",
      "name": "python",
      "nbconvert_exporter": "python",
      "pygments_lexer": "ipython3",
      "version": "3.10.12"
    }
  },
  "nbformat": 4,
  "nbformat_minor": 5
}