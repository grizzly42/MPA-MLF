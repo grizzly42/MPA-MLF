{
  "cells": [
    {
      "cell_type": "markdown",
      "metadata": {
        "id": "view-in-github",
        "colab_type": "text"
      },
      "source": [
        "<a href=\"https://colab.research.google.com/github/grizzly42/MPA-MLF/blob/main/ex1.ipynb\" target=\"_parent\"><img src=\"https://colab.research.google.com/assets/colab-badge.svg\" alt=\"Open In Colab\"/></a>"
      ]
    },
    {
      "cell_type": "code",
      "execution_count": null,
      "metadata": {
        "colab": {
          "base_uri": "https://localhost:8080/"
        },
        "id": "ZUbN1MkCowsS",
        "outputId": "f7336683-47f0-44ee-c4c4-3ad7295153e9"
      },
      "outputs": [
        {
          "name": "stdout",
          "output_type": "stream",
          "text": [
            "X\n",
            "X X\n",
            "X X X\n",
            "X X X X\n",
            "X X X X X\n",
            "X X X X\n",
            "X X X\n",
            "X X\n",
            "X\n"
          ]
        }
      ],
      "source": [
        "# Define count of max x in 1 row\n",
        "n = 5\n",
        "\n",
        "\n",
        "for i in range(1, n + 1):\n",
        "    print(' '.join(['X'] * i))\n",
        "\n",
        "for i in range(n - 1, 0, -1):\n",
        "    print(' '.join(['X'] * i))\n"
      ]
    },
    {
      "cell_type": "code",
      "execution_count": null,
      "metadata": {
        "colab": {
          "base_uri": "https://localhost:8080/"
        },
        "id": "NOQR8QZ1ozxs",
        "outputId": "63ad337e-1f02-4137-ad90-1e7a9604c57c"
      },
      "outputs": [
        {
          "name": "stdout",
          "output_type": "stream",
          "text": [
            "Sum of all numbers in string 34\n"
          ]
        }
      ],
      "source": [
        "input_str = \"n45as29@#8ss6\"\n",
        "numbers = \"\".join([char for char in input_str if char.isdigit()])\n",
        "digits = [int(char) for char in numbers]\n",
        "FinalSum = sum(digits)\n",
        "\n",
        "\n",
        "print(\"Sum of all numbers in string: \",FinalSum)\n"
      ]
    },
    {
      "cell_type": "code",
      "execution_count": null,
      "metadata": {
        "colab": {
          "base_uri": "https://localhost:8080/"
        },
        "id": "Wt_y8Q_VwXIy",
        "outputId": "95e044cf-aa90-4b56-eae3-7513d24cfa50"
      },
      "outputs": [
        {
          "name": "stdout",
          "output_type": "stream",
          "text": [
            "-110100100\n"
          ]
        }
      ],
      "source": [
        "def int_to_binary(n):\n",
        "    if n == 0:\n",
        "        return \"0\"\n",
        "\n",
        "    binary_str = \"\"\n",
        "    is_negative = n < 0\n",
        "    n = abs(n)\n",
        "\n",
        "    while n > 0:\n",
        "        remainder = n % 2\n",
        "        binary_str = str(remainder) + binary_str  # Prepend to the string\n",
        "        n //= 2  # Integer division by 2\n",
        "\n",
        "    if is_negative:\n",
        "        return \"-\" + binary_str  # Handle negative numbers\n",
        "\n",
        "    return binary_str\n",
        "\n",
        "\n",
        "print(int_to_binary(-420))\n",
        "\n"
      ]
    },
    {
      "cell_type": "code",
      "execution_count": null,
      "metadata": {
        "colab": {
          "base_uri": "https://localhost:8080/"
        },
        "id": "-awXrU-tGsYs",
        "outputId": "b4d25c4c-1594-4142-be4a-95b02e2a3c2a"
      },
      "outputs": [
        {
          "name": "stdout",
          "output_type": "stream",
          "text": [
            "[0, 1, 1, 2, 3, 5, 8, 13, 21, 34, 55, 89, 144, 233, 377]\n"
          ]
        }
      ],
      "source": [
        "def fibonacci(upper_threshold):\n",
        "    if upper_threshold <= 0:\n",
        "        return []\n",
        "\n",
        "    fib_sequence = [0, 1]\n",
        "    while True:\n",
        "        next_fib = fib_sequence[-1] + fib_sequence[-2]\n",
        "        if next_fib >= upper_threshold:\n",
        "            break\n",
        "        fib_sequence.append(next_fib)\n",
        "\n",
        "    return fib_sequence\n",
        "\n",
        "\n",
        "print(fibonacci(400))\n"
      ]
    },
    {
      "cell_type": "code",
      "execution_count": null,
      "metadata": {
        "colab": {
          "background_save": true,
          "base_uri": "https://localhost:8080/"
        },
        "id": "sP8f1VkSHeRI",
        "outputId": "066499a6-1689-40b5-d336-fc5d8276908b"
      },
      "outputs": [
        {
          "name": "stdout",
          "output_type": "stream",
          "text": [
            "I am empty\n"
          ]
        }
      ],
      "source": [
        "import random\n",
        "\n",
        "def rock_paper_scissors():\n",
        "    print('I am empty')\n",
        "    choices = [\"rock\", \"paper\", \"scissors\"]\n",
        "    user_choice = input(\"Enter rock, paper, or scissors: \").strip().lower()\n",
        "\n",
        "    if user_choice not in choices:\n",
        "        print(\"Invalid choice. Please choose rock, paper, or scissors.\")\n",
        "        return\n",
        "\n",
        "    computer_choice = random.choice(choices)\n",
        "    print(f\"Computer chose: {computer_choice}\")\n",
        "\n",
        "    if user_choice == computer_choice:\n",
        "        print(\"It is a tie\")\n",
        "    elif (user_choice == \"rock\" and computer_choice == \"scissors\") :\n",
        "      print(\"You win\")\n",
        "    elif   (user_choice == \"paper\" and computer_choice == \"rock\") :\n",
        "      print(\"You win\")\n",
        "    elif (user_choice == \"scissors\" and computer_choice == \"paper\"):\n",
        "        print(\"You win\")\n",
        "    else:\n",
        "        print(\"You lose\")\n",
        "\n",
        "rock_paper_scissors()\n"
      ]
    }
  ],
  "metadata": {
    "colab": {
      "provenance": [],
      "authorship_tag": "ABX9TyN3/m9NBddOSu1rKnxCyEzc",
      "include_colab_link": true
    },
    "kernelspec": {
      "display_name": "Python 3",
      "name": "python3"
    },
    "language_info": {
      "name": "python"
    }
  },
  "nbformat": 4,
  "nbformat_minor": 0
}