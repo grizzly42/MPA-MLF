{
  "nbformat": 4,
  "nbformat_minor": 0,
  "metadata": {
    "colab": {
      "provenance": [],
      "authorship_tag": "ABX9TyN4FU+hWwGo4Qv8szvCtRbB",
      "include_colab_link": true
    },
    "kernelspec": {
      "name": "python3",
      "display_name": "Python 3"
    },
    "language_info": {
      "name": "python"
    }
  },
  "cells": [
    {
      "cell_type": "markdown",
      "metadata": {
        "id": "view-in-github",
        "colab_type": "text"
      },
      "source": [
        "<a href=\"https://colab.research.google.com/github/grizzly42/MPA-MLF/blob/main/ex1.ipynb\" target=\"_parent\"><img src=\"https://colab.research.google.com/assets/colab-badge.svg\" alt=\"Open In Colab\"/></a>"
      ]
    },
    {
      "cell_type": "code",
      "execution_count": 2,
      "metadata": {
        "colab": {
          "base_uri": "https://localhost:8080/"
        },
        "id": "ZUbN1MkCowsS",
        "outputId": "f7336683-47f0-44ee-c4c4-3ad7295153e9"
      },
      "outputs": [
        {
          "output_type": "stream",
          "name": "stdout",
          "text": [
            "X\n",
            "X X\n",
            "X X X\n",
            "X X X X\n",
            "X X X X X\n",
            "X X X X\n",
            "X X X\n",
            "X X\n",
            "X\n"
          ]
        }
      ],
      "source": [
        "# Define count of max x in 1 row\n",
        "n = 5\n",
        "\n",
        "\n",
        "for i in range(1, n + 1):\n",
        "    print(' '.join(['X'] * i))\n",
        "\n",
        "for i in range(n - 1, 0, -1):\n",
        "    print(' '.join(['X'] * i))\n",
        ""
      ]
    },
    {
      "cell_type": "code",
      "source": [
        "input_str = \"n45as29@#8ss6\"\n",
        "numbers = \"\".join([char for char in input_str if char.isdigit()])\n",
        "digits = [int(char) for char in numbers]  # Převod jednotlivých znaků na int\n",
        "sumec = sum(digits)\n",
        "\n",
        "print(sumec)\n"
      ],
      "metadata": {
        "colab": {
          "base_uri": "https://localhost:8080/"
        },
        "id": "NOQR8QZ1ozxs",
        "outputId": "ea22589a-346d-4eb5-d4e1-da691b5b9f17"
      },
      "execution_count": 14,
      "outputs": [
        {
          "output_type": "stream",
          "name": "stdout",
          "text": [
            "34\n"
          ]
        }
      ]
    }
  ]
}